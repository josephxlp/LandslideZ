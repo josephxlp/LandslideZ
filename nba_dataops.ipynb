{
 "cells": [
  {
   "cell_type": "code",
   "execution_count": 2,
   "id": "47f63f1b",
   "metadata": {},
   "outputs": [],
   "source": [
    "from uvars import datapath_onedrive,datapath_locdrive\n",
    "from concurrent.futures import ThreadPoolExecutor\n",
    "import os\n",
    "import shutil"
   ]
  },
  {
   "cell_type": "code",
   "execution_count": 3,
   "id": "fbb72b34",
   "metadata": {},
   "outputs": [],
   "source": [
    "def shutil_copyfile(fr,to):\n",
    "    if not os.path.isfile(to):\n",
    "        shutil.copyfile(fr, to)\n"
   ]
  },
  {
   "cell_type": "code",
   "execution_count": 4,
   "id": "0a928908",
   "metadata": {},
   "outputs": [
    {
     "data": {
      "text/plain": [
       "32"
      ]
     },
     "execution_count": 4,
     "metadata": {},
     "output_type": "execute_result"
    }
   ],
   "source": [
    "os.cpu_count()"
   ]
  },
  {
   "cell_type": "code",
   "execution_count": 5,
   "id": "2ddc201d",
   "metadata": {},
   "outputs": [],
   "source": [
    "with ThreadPoolExecutor(200) as tex:\n",
    "    for fi in os.listdir(datapath_onedrive):\n",
    "        fr = os.path.join(datapath_onedrive,fi)\n",
    "        to = os.path.join(datapath_locdrive,fi)\n",
    "        #tex.submit(shutil_copyfile,fr,to)"
   ]
  },
  {
   "cell_type": "code",
   "execution_count": 7,
   "id": "14b22289",
   "metadata": {},
   "outputs": [],
   "source": [
    "import os\n",
    "import zipfile\n",
    "from concurrent.futures import ThreadPoolExecutor, as_completed\n",
    "\n",
    "def unzip_file(zip_path, out_dir_path):\n",
    "    os.makedirs(out_dir_path, exist_ok=True)\n",
    "    with zipfile.ZipFile(zip_path, 'r') as zip_ref:\n",
    "        zip_ref.extractall(out_dir_path)\n",
    "    return f'Extracted {os.path.basename(zip_path)} to {out_dir_path}'\n",
    "\n",
    "def unzip_folders_parallel(zip_folder_path, max_workers=4):\n",
    "    zip_files = [f for f in os.listdir(zip_folder_path) if f.lower().endswith('.zip')]\n",
    "\n",
    "    with ThreadPoolExecutor(max_workers=max_workers) as executor:\n",
    "        futures = []\n",
    "        for filename in zip_files:\n",
    "            zip_path = os.path.join(zip_folder_path, filename)\n",
    "            out_dir_name = os.path.splitext(filename)[0]\n",
    "            out_dir_path = os.path.join(zip_folder_path, out_dir_name)\n",
    "            futures.append(executor.submit(unzip_file, zip_path, out_dir_path))\n",
    "\n",
    "        for future in as_completed(futures):\n",
    "            print(future.result())\n",
    "\n",
    "if __name__ == \"__main__\":\n",
    "    zip_folder = datapath_locdrive \n",
    "    #unzip_folders_parallel(zip_folder, max_workers=80)\n"
   ]
  },
  {
   "cell_type": "code",
   "execution_count": null,
   "id": "a1394a8c",
   "metadata": {},
   "outputs": [],
   "source": []
  }
 ],
 "metadata": {
  "kernelspec": {
   "display_name": "geodl",
   "language": "python",
   "name": "python3"
  },
  "language_info": {
   "codemirror_mode": {
    "name": "ipython",
    "version": 3
   },
   "file_extension": ".py",
   "mimetype": "text/x-python",
   "name": "python",
   "nbconvert_exporter": "python",
   "pygments_lexer": "ipython3",
   "version": "3.12.9"
  }
 },
 "nbformat": 4,
 "nbformat_minor": 5
}
